{
 "cells": [
  {
   "cell_type": "code",
   "execution_count": null,
   "id": "912524f5",
   "metadata": {},
   "outputs": [
    {
     "name": "stdout",
     "output_type": "stream",
     "text": [
      "Llamada i= 1, x = 3.00000\t , y = 2.00\n",
      "Llamada i= 2, x = 3.00000\t , y = 2.00\n",
      "Llamada i= 3, x = 3.00000\t , y = 2.00\n",
      "Llamada i= 4, x = 2.00000\t , y = -3.00\n",
      "Llamada i= 5, x = 2.60000\t , y = -1.10\n",
      "Llamada i= 6, x = 2.60000\t , y = -1.10\n",
      "Llamada i= 7, x = 2.60000\t , y = -1.10\n",
      "Llamada i= 8, x = 3.00000\t , y = 2.00\n",
      "Llamada i= 9, x = 2.74227\t , y = -0.20\n",
      "Llamada i= 10, x = 2.74227\t , y = -0.20\n",
      "Llamada i= 11, x = 2.74227\t , y = -0.20\n",
      "Llamada i= 12, x = 2.60000\t , y = -1.10\n",
      "Llamada i= 13, x = 2.77296\t , y = 0.03\n",
      "Llamada i= 14, x = 2.77296\t , y = 0.03\n",
      "Llamada i= 15, x = 2.77296\t , y = 0.03\n",
      "Llamada i= 16, x = 2.74227\t , y = -0.20\n",
      "Llamada i= 17, x = 2.76922\t , y = -0.00\n",
      "Llamada i= 18, x = 2.76922\t , y = -0.00\n",
      "Llamada i= 19, x = 2.76922\t , y = -0.00\n",
      "Llamada i= 20, x = 2.77296\t , y = 0.03\n",
      "Llamada i= 21, x = 2.76929\t , y = -0.00\n",
      "Llamada i= 22, x = 2.76929\t , y = -0.00\n",
      "Llamada i= 23, x = 2.76929\t , y = -0.00\n",
      "Llamada i= 24, x = 2.76922\t , y = -0.00\n",
      "Llamada i= 25, x = 2.76929\t , y = 0.00\n"
     ]
    },
    {
     "data": {
      "text/plain": [
       "(2.7692923542484045, 6)"
      ]
     },
     "execution_count": 5,
     "metadata": {},
     "output_type": "execute_result"
    }
   ],
   "source": [
    "def secant_method(f, x0, x1, tol=1e-6, max_iter=100):    \n",
    "    x_prev = x0\n",
    "    x_curr = x1\n",
    "    iter_count = 0\n",
    "\n",
    "    while abs(f(x_curr)) > tol and iter_count < max_iter:\n",
    "        # Calculate the next approximation using the secant method formula\n",
    "        x_next = x_curr - f(x_curr) * (x_curr - x_prev) / (f(x_curr) - f(x_prev))\n",
    "\n",
    "        # Update variables for the next iteration\n",
    "        x_prev = x_curr\n",
    "        x_curr = x_next\n",
    "        iter_count += 1\n",
    "\n",
    "    return x_curr, iter_count\n",
    "\n",
    "i = 0\n",
    "\n",
    "def func(x):\n",
    "    global i\n",
    "    i += 1\n",
    "    y = x**3 - 3 * x**2 +x -1\n",
    "    print(f\"Llamada i= {i}, x = {x:.5f}\\t , y = {y:.2f}\")\n",
    "    return y\n",
    "\n",
    "secant_method(func, x0=2, x1=3)"
   ]
  },
  {
   "cell_type": "code",
   "execution_count": null,
   "id": "e0dacb8f",
   "metadata": {},
   "outputs": [],
   "source": []
  }
 ],
 "metadata": {
  "kernelspec": {
   "display_name": "base",
   "language": "python",
   "name": "python3"
  },
  "language_info": {
   "codemirror_mode": {
    "name": "ipython",
    "version": 3
   },
   "file_extension": ".py",
   "mimetype": "text/x-python",
   "name": "python",
   "nbconvert_exporter": "python",
   "pygments_lexer": "ipython3",
   "version": "3.12.7"
  }
 },
 "nbformat": 4,
 "nbformat_minor": 5
}
